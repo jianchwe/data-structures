{
 "cells": [
  {
   "cell_type": "markdown",
   "metadata": {},
   "source": [
    "# Assignment 04\n",
    "## 1. LeetCode 225"
   ]
  },
  {
   "cell_type": "code",
   "execution_count": null,
   "metadata": {},
   "outputs": [],
   "source": [
    "class MyStack:\n",
    "\n",
    "    def __init__(self):\n",
    "        self.__queue = []\n",
    "\n",
    "    def push(self, x: int) -> None:\n",
    "        self.__queue.append(x)\n",
    "\n",
    "    def pop(self) -> int:\n",
    "        return self.__queue.pop(-1) \n",
    "\n",
    "    def top(self) -> int:\n",
    "        return self.__queue[-1]\n",
    "\n",
    "    def empty(self) -> bool:\n",
    "        return (len(self.__queue) == 0)"
   ]
  },
  {
   "cell_type": "markdown",
   "metadata": {},
   "source": [
    "## 2. LeetCode 232"
   ]
  },
  {
   "cell_type": "code",
   "execution_count": null,
   "metadata": {},
   "outputs": [],
   "source": [
    "class MyQueue:\n",
    "\n",
    "    def __init__(self):\n",
    "        self.__stack = []\n",
    "\n",
    "    def push(self, x: int) -> None:\n",
    "        self.__stack.append(x)\n",
    "\n",
    "    def pop(self) -> int:\n",
    "        return self.__stack.pop(0)\n",
    "\n",
    "    def peek(self) -> int:\n",
    "        return self.__stack[0]\n",
    "\n",
    "    def empty(self) -> bool:\n",
    "        return (len(self.__stack) == 0)"
   ]
  },
  {
   "cell_type": "markdown",
   "metadata": {},
   "source": [
    "## 3. Chapter 07\n",
    "### Problem 01"
   ]
  },
  {
   "cell_type": "code",
   "execution_count": null,
   "metadata": {},
   "outputs": [],
   "source": []
  },
  {
   "cell_type": "markdown",
   "metadata": {},
   "source": [
    "### Problem 02"
   ]
  },
  {
   "cell_type": "code",
   "execution_count": 20,
   "metadata": {},
   "outputs": [
    {
     "name": "stdout",
     "output_type": "stream",
     "text": [
      "True\n",
      "False\n"
     ]
    }
   ],
   "source": [
    "from base.queue.linkedQueue import LinkedQueue\n",
    "\n",
    "def checkString(a):\n",
    "    i = 0\n",
    "    a_queue = LinkedQueue()\n",
    "    for i in range(len(a)):\n",
    "        if a[i] == '$': break\n",
    "        a_queue.enqueue(a[i])\n",
    "\n",
    "    for j in range(i+1, len(a)):\n",
    "        if (a_queue.isEmpty()): return False\n",
    "        if (a_queue.front() != a[j]): return False\n",
    "        a_queue.dequeue()\n",
    "    if (a_queue.isEmpty()): return True\n",
    "    else: return False\n",
    "\n",
    "print(checkString('true$true'))\n",
    "print(checkString('true$eurt'))"
   ]
  },
  {
   "cell_type": "markdown",
   "metadata": {},
   "source": [
    "### Problem 03"
   ]
  },
  {
   "cell_type": "code",
   "execution_count": null,
   "metadata": {},
   "outputs": [],
   "source": [
    "from base.queue.linkedQueue import LinkedQueue\n",
    "\n",
    "def CopyQueue(a : LinkedQueue ,b : LinkedQueue):\n",
    "    temp = LinkedQueue()\n",
    "\n",
    "    while not a.isEmpty():\n",
    "        copyitem = a.dequeue()\n",
    "        b.enqueue(copyitem)\n",
    "        temp.enqueue(copyitem)\n",
    "\n",
    "    while not temp.isEmpty():\n",
    "        a.enqueue(temp.dequeue()) \n"
   ]
  },
  {
   "cell_type": "markdown",
   "metadata": {},
   "source": [
    "### Problem 04"
   ]
  },
  {
   "cell_type": "code",
   "execution_count": null,
   "metadata": {},
   "outputs": [],
   "source": [
    "from base.queue.linkedQueue import LinkedQueue\n",
    "\n",
    "class QueuetoStack:\n",
    "    def __init__(self):\n",
    "        self.q1 = LinkedQueue()\n",
    "        self.q2 = LinkedQueue()\n",
    "    \n",
    "    def push(self, x):\n",
    "        self.q2.enqueue(x)\n",
    "\n",
    "        while not self.q1.isEmpty():\n",
    "            self.q2.enqueue(self.q1.dequeue())\n",
    "        \n",
    "        self.q1, self.q2 = self.q2, self.q1\n",
    "    \n",
    "    def pop(self):\n",
    "        return self.q1.dequeue()"
   ]
  },
  {
   "cell_type": "markdown",
   "metadata": {},
   "source": [
    "### Problem 05"
   ]
  },
  {
   "cell_type": "code",
   "execution_count": null,
   "metadata": {},
   "outputs": [],
   "source": [
    "from base.stack.linkedStack import LinkedStack\n",
    "\n",
    "class StacktoQueue:\n",
    "    def __init__(self):\n",
    "        self.s1 = LinkedStack()\n",
    "        self.s2 = LinkedStack()\n",
    "    \n",
    "    def enqueue(self, x):\n",
    "        self.s1.push(x)\n",
    "\n",
    "    def dequeue(self):\n",
    "        if self.s2.isEmpty():\n",
    "            while not self.s1.isEmpty():\n",
    "                self.s2.push(self.s1.pop())\n",
    "        \n",
    "        if self.s2.isEmpty():\n",
    "            return None\n",
    "        \n",
    "        return self.s2.pop()"
   ]
  },
  {
   "cell_type": "markdown",
   "metadata": {},
   "source": [
    "### Problem 06\n",
    "\n",
    "enqueue()의 수행시간 = Θ(1) / dequeue()의 수행시간 = Θ(n)\n"
   ]
  },
  {
   "cell_type": "markdown",
   "metadata": {},
   "source": [
    "### Problem 07\n",
    "\n",
    "enqueue()의 수행시간 = Θ(n) / dequeue()의 수행시간 = Θ(n)"
   ]
  },
  {
   "cell_type": "markdown",
   "metadata": {},
   "source": [
    "### Problem 08"
   ]
  },
  {
   "cell_type": "code",
   "execution_count": null,
   "metadata": {},
   "outputs": [],
   "source": []
  }
 ],
 "metadata": {
  "kernelspec": {
   "display_name": "Python 3",
   "language": "python",
   "name": "python3"
  },
  "language_info": {
   "codemirror_mode": {
    "name": "ipython",
    "version": 3
   },
   "file_extension": ".py",
   "mimetype": "text/x-python",
   "name": "python",
   "nbconvert_exporter": "python",
   "pygments_lexer": "ipython3",
   "version": "3.13.2"
  }
 },
 "nbformat": 4,
 "nbformat_minor": 2
}
