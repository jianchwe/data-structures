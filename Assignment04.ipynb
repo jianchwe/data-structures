{
 "cells": [
  {
   "cell_type": "markdown",
   "metadata": {},
   "source": [
    "# Assignment 04\n",
    "## 1. LeetCode 225"
   ]
  },
  {
   "cell_type": "code",
   "execution_count": null,
   "metadata": {},
   "outputs": [],
   "source": [
    "class MyStack:\n",
    "\n",
    "    def __init__(self):\n",
    "        self.__queue = []\n",
    "\n",
    "    def push(self, x: int) -> None:\n",
    "        self.__queue.append(x)\n",
    "\n",
    "    def pop(self) -> int:\n",
    "        return self.__queue.pop(-1) \n",
    "\n",
    "    def top(self) -> int:\n",
    "        return self.__queue[-1]\n",
    "\n",
    "    def empty(self) -> bool:\n",
    "        return (len(self.__queue) == 0)"
   ]
  },
  {
   "cell_type": "markdown",
   "metadata": {},
   "source": [
    "## 2. LeetCode 232"
   ]
  },
  {
   "cell_type": "code",
   "execution_count": null,
   "metadata": {},
   "outputs": [],
   "source": [
    "class MyQueue:\n",
    "\n",
    "    def __init__(self):\n",
    "        self.__stack = []\n",
    "\n",
    "    def push(self, x: int) -> None:\n",
    "        self.__stack.append(x)\n",
    "\n",
    "    def pop(self) -> int:\n",
    "        return self.__stack.pop(0)\n",
    "\n",
    "    def peek(self) -> int:\n",
    "        return self.__stack[0]\n",
    "\n",
    "    def empty(self) -> bool:\n",
    "        return (len(self.__stack) == 0)"
   ]
  },
  {
   "cell_type": "markdown",
   "metadata": {},
   "source": [
    "## 3. Chapter 7\n",
    "### Problem 01"
   ]
  },
  {
   "cell_type": "markdown",
   "metadata": {},
   "source": [
    "### Problem 02"
   ]
  },
  {
   "cell_type": "code",
   "execution_count": null,
   "metadata": {},
   "outputs": [],
   "source": [
    "def checkString(a):\n",
    "    i = 0\n",
    "    a_queue = LinkedQueue()\n",
    "    for i in range(len(a)):\n",
    "        if a[i] == '$': break\n",
    "        a_queue.push(a[i])\n",
    "\n",
    "    for j in range(i+1, len(a)):\n",
    "        if (a_queue.isEmpty()): return False\n",
    "        if (a_queue.top() != a[j]): return False\n",
    "        a_queue.pop()\n",
    "    if (a_queue.isEmpty()): return True\n",
    "    else: return False"
   ]
  }
 ],
 "metadata": {
  "kernelspec": {
   "display_name": "Python 3",
   "language": "python",
   "name": "python3"
  },
  "language_info": {
   "name": "python",
   "version": "3.13.2"
  }
 },
 "nbformat": 4,
 "nbformat_minor": 2
}
