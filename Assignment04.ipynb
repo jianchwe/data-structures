{
 "cells": [
  {
   "cell_type": "markdown",
   "metadata": {},
   "source": [
    "# Assignment 04\n",
    "<div align=\"right\">20232660 최지안</div>\n",
    "\n",
    "## 1. LeetCode 225"
   ]
  },
  {
   "cell_type": "code",
   "execution_count": null,
   "metadata": {},
   "outputs": [],
   "source": [
    "class MyStack:\n",
    "\n",
    "    def __init__(self):\n",
    "        self.__queue = []\n",
    "\n",
    "    def push(self, x: int) -> None:\n",
    "        self.__queue.append(x)\n",
    "\n",
    "    def pop(self) -> int:\n",
    "        return self.__queue.pop(-1) \n",
    "\n",
    "    def top(self) -> int:\n",
    "        return self.__queue[-1]\n",
    "\n",
    "    def empty(self) -> bool:\n",
    "        return (len(self.__queue) == 0)"
   ]
  },
  {
   "cell_type": "markdown",
   "metadata": {},
   "source": [
    "## 2. LeetCode 232"
   ]
  },
  {
   "cell_type": "code",
   "execution_count": null,
   "metadata": {},
   "outputs": [],
   "source": [
    "class MyQueue:\n",
    "\n",
    "    def __init__(self):\n",
    "        self.__stack = []\n",
    "\n",
    "    def push(self, x: int) -> None:\n",
    "        self.__stack.append(x)\n",
    "\n",
    "    def pop(self) -> int:\n",
    "        return self.__stack.pop(0)\n",
    "\n",
    "    def peek(self) -> int:\n",
    "        return self.__stack[0]\n",
    "\n",
    "    def empty(self) -> bool:\n",
    "        return (len(self.__stack) == 0)"
   ]
  },
  {
   "cell_type": "markdown",
   "metadata": {},
   "source": [
    "## 3. Chapter 07\n",
    "### Problem 01"
   ]
  },
  {
   "cell_type": "code",
   "execution_count": null,
   "metadata": {},
   "outputs": [],
   "source": [
    "class ListQueue:\n",
    "    def __init__(self):\n",
    "        self.__queue = []\n",
    "    \n",
    "    def enqueue(self, x):\n",
    "        self.__queue.insert(0, x)\n",
    "    \n",
    "    def dequeue(self):\n",
    "        return self.__queue.pop(len(self.__queue)-1)\n",
    "    \n",
    "    def front(self):\n",
    "        return self.__queue[len(self.__queue)-1]\n",
    "    \n",
    "    def isEmpty(self) -> bool:\n",
    "        return len(self.__queue) == 0\n",
    "    \n",
    "    def dequeueAll(self) :\n",
    "        self.__queue.clear()"
   ]
  },
  {
   "cell_type": "markdown",
   "metadata": {},
   "source": [
    "### Problem 02"
   ]
  },
  {
   "cell_type": "code",
   "execution_count": 20,
   "metadata": {},
   "outputs": [
    {
     "name": "stdout",
     "output_type": "stream",
     "text": [
      "True\n",
      "False\n"
     ]
    }
   ],
   "source": [
    "from base.queue.linkedQueue import LinkedQueue\n",
    "\n",
    "def checkString(a):\n",
    "    i = 0\n",
    "    a_queue = LinkedQueue()\n",
    "    for i in range(len(a)):\n",
    "        if a[i] == '$': break\n",
    "        a_queue.enqueue(a[i])\n",
    "\n",
    "    for j in range(i+1, len(a)):\n",
    "        if (a_queue.isEmpty()): return False\n",
    "        if (a_queue.front() != a[j]): return False\n",
    "        a_queue.dequeue()\n",
    "    if (a_queue.isEmpty()): return True\n",
    "    else: return False\n",
    "\n",
    "print(checkString('true$true'))\n",
    "print(checkString('true$eurt'))"
   ]
  },
  {
   "cell_type": "markdown",
   "metadata": {},
   "source": [
    "### Problem 03"
   ]
  },
  {
   "cell_type": "code",
   "execution_count": null,
   "metadata": {},
   "outputs": [],
   "source": [
    "from base.queue.linkedQueue import LinkedQueue\n",
    "\n",
    "def CopyQueue(a : LinkedQueue ,b : LinkedQueue):\n",
    "    temp = LinkedQueue()\n",
    "\n",
    "    while not a.isEmpty():\n",
    "        copyitem = a.dequeue()\n",
    "        b.enqueue(copyitem)\n",
    "        temp.enqueue(copyitem)\n",
    "\n",
    "    while not temp.isEmpty():\n",
    "        a.enqueue(temp.dequeue()) \n"
   ]
  },
  {
   "cell_type": "markdown",
   "metadata": {},
   "source": [
    "### Problem 04"
   ]
  },
  {
   "cell_type": "code",
   "execution_count": null,
   "metadata": {},
   "outputs": [],
   "source": [
    "from base.queue.linkedQueue import LinkedQueue\n",
    "\n",
    "class QueuetoStack:\n",
    "    def __init__(self):\n",
    "        self.q1 = LinkedQueue()\n",
    "        self.q2 = LinkedQueue()\n",
    "    \n",
    "    def push(self, x):\n",
    "        self.q2.enqueue(x)\n",
    "\n",
    "        while not self.q1.isEmpty():\n",
    "            self.q2.enqueue(self.q1.dequeue())\n",
    "        \n",
    "        self.q1, self.q2 = self.q2, self.q1\n",
    "    \n",
    "    def pop(self):\n",
    "        return self.q1.dequeue()"
   ]
  },
  {
   "cell_type": "markdown",
   "metadata": {},
   "source": [
    "### Problem 05"
   ]
  },
  {
   "cell_type": "code",
   "execution_count": null,
   "metadata": {},
   "outputs": [],
   "source": [
    "from base.stack.linkedStack import LinkedStack\n",
    "\n",
    "class StacktoQueue:\n",
    "    def __init__(self):\n",
    "        self.s1 = LinkedStack()\n",
    "        self.s2 = LinkedStack()\n",
    "    \n",
    "    def enqueue(self, x):\n",
    "        self.s1.push(x)\n",
    "\n",
    "    def dequeue(self):\n",
    "        if self.s2.isEmpty():\n",
    "            while not self.s1.isEmpty():\n",
    "                self.s2.push(self.s1.pop())\n",
    "        \n",
    "        if self.s2.isEmpty():\n",
    "            return None\n",
    "        \n",
    "        return self.s2.pop()"
   ]
  },
  {
   "cell_type": "markdown",
   "metadata": {},
   "source": [
    "### Problem 06\n",
    "\n",
    "enqueue()의 수행시간 = Θ(1) / dequeue()의 수행시간 = O(n)\n",
    "\n",
    "코드 7-13은 linkedQueue로 circularLinkedList를 기반으로 한다.\n",
    "sircularLinkedList는 dummy head와 tail을 가지고 있다.\n",
    "enqueue로 맨 앞에 삽입하는 건 더미헤드 노드로 insert() 삽입이 가능하므로 Θ(1)이고 맨 뒤에 삽입 하는 것 또한 append()로 삽입이 가능하여 Θ(1)이다.\n",
    "dequeue로 맨 앞을 삭제하는 건 pop()으로 삽입이 가능하여 Θ(1)이고 맨 뒤에 삽입하는 건 n개 중에 tail의 앞 노드를 찾아서 삭제해야하기 때문에 O(n)의 수행시간을 가진다.\n",
    "그러므로 enqueue는 Θ(1) / dequeue는 최악의 경우 O(n)의 수행시간을 가진다는 것을 알 수 있다."
   ]
  },
  {
   "cell_type": "markdown",
   "metadata": {},
   "source": [
    "### Problem 07\n",
    "\n",
    "enqueue()의 수행시간 = O(n) / dequeue()의 수행시간 = O(n)\n",
    "\n",
    "위의 circularLinkedList와 달리 LinkedListBasic은 dummy head는 있지만 tail은 없다.\n",
    "enqueue로 맨 앞에 삽입하는 건 더미헤드를 통해 insert()로 삽입이 가능하므로 Θ(1)이지만 맨 뒤에 삽입하는 건 tail이 없으므로 처음부터 n개 거쳐서 마지막 노드를 찾아야하므로 O(n)의 수행시간을 가진다.\n",
    "dequeue로 맨 앞을 삭제하는 건 더미헤드로 첫 헤드를 pop()하면 되므로 Θ(1) 이지만 맨 뒤를 삭제하는 건 처음부터 n까지 가서 마지막 노드를 삭제해야하므로 O(n)의 수행시간을 가진다.\n",
    "그러므로 enqueue는 최악의 경우 O(n) / dequeue도 최악의 경우 O(n)의 수행시간을 가진다는 것을 알 수 있다."
   ]
  },
  {
   "cell_type": "markdown",
   "metadata": {},
   "source": [
    "### Problem 08"
   ]
  },
  {
   "cell_type": "code",
   "execution_count": null,
   "metadata": {},
   "outputs": [],
   "source": [
    "class Deque:\n",
    "    def __init__(self):\n",
    "        self.__queue = []\n",
    "    \n",
    "    def enqueueFront(self, x):\n",
    "        self.__queue.insert(0, x)\n",
    "    \n",
    "    def enqueueRear(self, x):\n",
    "        self.__queue.append(x)\n",
    "    \n",
    "    def dequeueFront(self):\n",
    "        return self.__queue.pop(0)\n",
    "    \n",
    "    def dequeueRear(self):\n",
    "        return self.__queue.pop(len(self.__queue)-1)\n",
    "    \n",
    "    def front(self):\n",
    "        if self.isEmpty():\n",
    "            return None\n",
    "        else:\n",
    "            return self.__queue[0]\n",
    "    \n",
    "    def isEmpty(self) -> bool:\n",
    "        return (len(self.__queue) == 0)\n",
    "    \n",
    "    def dequeueAll (self):\n",
    "        self.__queue.clear()\n",
    "    \n",
    "    def printQueue(self):\n",
    "        print(\"Queue from front:\", end = ' ')\n",
    "        for i in range(len(self.__queue)):\n",
    "            print(self.__queue[i], end = ' ')\n",
    "        print()"
   ]
  }
 ],
 "metadata": {
  "kernelspec": {
   "display_name": "Python 3",
   "language": "python",
   "name": "python3"
  },
  "language_info": {
   "codemirror_mode": {
    "name": "ipython",
    "version": 3
   },
   "file_extension": ".py",
   "mimetype": "text/x-python",
   "name": "python",
   "nbconvert_exporter": "python",
   "pygments_lexer": "ipython3",
   "version": "3.13.2"
  }
 },
 "nbformat": 4,
 "nbformat_minor": 2
}
