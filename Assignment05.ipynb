{
 "cells": [
  {
   "cell_type": "markdown",
   "id": "f78bea2f",
   "metadata": {},
   "source": [
    "# Assignment 05\n",
    "\n",
    "## 3. The latest birthday"
   ]
  },
  {
   "cell_type": "code",
   "execution_count": null,
   "id": "f2af0abf",
   "metadata": {},
   "outputs": [
    {
     "name": "stdout",
     "output_type": "stream",
     "text": [
      "생일이 가장 늦은 친구 10명\n",
      "1. 홍서연 - 20241282\n",
      "2. 신수민 - 20051230\n",
      "3. 이서영 - 20051225\n",
      "4. 강민주 - 20051214\n",
      "5. 김민경 - 20051202\n",
      "6. 이서영 - 20051112\n",
      "7. 배시은 - 20051102\n",
      "8. 김여원 - 20051031\n",
      "9. 이서진 - 20051028\n",
      "10. 서홍빈 - 20051024\n"
     ]
    }
   ],
   "source": [
    "from base.heap.heap import Heap\n",
    "import csv\n",
    "\n",
    "def load_birthdays(filename):\n",
    "    birthday_list = []\n",
    "    with open(filename, newline='', encoding='utf-8') as csvfile:\n",
    "        reader = csv.DictReader(csvfile)\n",
    "        for row in reader:\n",
    "            name = row['이름']\n",
    "            birth_str = row['생년월일8자리(예.20040101)']\n",
    "            birthday_list.append((birth_str, name))\n",
    "    return birthday_list\n",
    "\n",
    "def latest_birthdays(filename):\n",
    "    birthdays = load_birthdays(filename)\n",
    "\n",
    "    heap = Heap()\n",
    "\n",
    "    for birth_str, name in birthdays:\n",
    "        heap.insert((birth_str, name))\n",
    "\n",
    "    print(\"생일이 가장 늦은 친구 10명\")\n",
    "    for i in range(10):\n",
    "        if not heap.isEmpty():\n",
    "            birth_str, name = heap.deleteMax()\n",
    "            print(f\"{i+1}. {name} - {birth_str}\")\n",
    "        else:\n",
    "            break\n",
    "\n",
    "latest_birthdays('birthday.csv')"
   ]
  },
  {
   "cell_type": "markdown",
   "id": "ccf8de49",
   "metadata": {},
   "source": [
    "## 4. Birthday of Team5"
   ]
  },
  {
   "cell_type": "code",
   "execution_count": 27,
   "id": "529b81c9",
   "metadata": {},
   "outputs": [
    {
     "name": "stdout",
     "output_type": "stream",
     "text": [
      "Team5 생년월일\n",
      "김정민 - 20050422\n",
      "김혜정 - 20050501\n",
      "남궁수아 - 20050325\n",
      "송윤경 - \n",
      "신다연 - 20041206\n",
      "신지예 - 20040707\n",
      "이우정 - 20020324\n",
      "이정원 - \n",
      "정세원 - 20041121\n",
      "최지안 - \n"
     ]
    }
   ],
   "source": [
    "import csv\n",
    "from base.list.circularDoublyLinkedList import CircularDoublyLinkedList\n",
    "\n",
    "cdll = CircularDoublyLinkedList()\n",
    "\n",
    "team_5 = [\"송윤경\", \"김혜정\", \"최지안\", \"정세원\", \"김정민\", \"이정원\", \"신다연\", \"신지예\", \"이우정\", \"남궁수아\"]\n",
    "\n",
    "with open(\"birthday.csv\", newline=\"\", encoding=\"utf-8\") as csvfile:\n",
    "    reader = csv.reader(csvfile)\n",
    "    next(reader)\n",
    "    for row in reader:\n",
    "        name, birth = row[1], row[2]\n",
    "        cdll.append((name, birth))\n",
    "\n",
    "print(\"Team5 생년월일\")\n",
    "for name, birth in cdll:\n",
    "    if name in team_5:\n",
    "        print(f\"{name} - {birth}\")"
   ]
  },
  {
   "cell_type": "markdown",
   "id": "2d031590",
   "metadata": {},
   "source": [
    "## 5. Chapter 08\n",
    "### Problem 01\n",
    "더 작은 값을 가질 수 있다.\n",
    "최대 힙에서 heap[1], heap[2]가 깊이가 같고 heap[4]는 그들보다 깊이가 깊지만 heap[4]가 자식 노드로서 부모노드인 [1]보다 작기만 하면 되고 [2]와는 관련이 없기 때문에 임의의 최대 힙에서 더 얕은 곳에 있는 원소가 더 깊은 곳에 있는 원소보다 더 작은 값을 가질 수 있는 경우의 수는 너무 굉장히 많다.\n",
    "\n",
    "### Problem 02\n",
    "아니다.\n",
    "A[n-1]은 주어진 힙의 마지막 노드일 뿐이고 자식 노드의 값이 그 자식노드의 부모노드를 기준으로 작으면 되는 게 최대 힙이기 때문에 가장 작은 값을 가진다는 보장이 없다.\n",
    "\n",
    "### Problem 03\n",
    "n-1-(n-2)//2개\n",
    "n개의 원소를 가진 리스트에서 마지막 노드의 인덱스는 n-1이며 n/2 이상의 위치와 자식이 없는 노드는 스며내릴 필요가 없다. 그러므로 스며내리기를 해야하는 인덱스는 (n-2)//2 부터 0까지고 스며내리기의 대상이 아닌 인덱스는 n-1-(n-2)//2개이다. \n",
    "\n",
    "### Problem 04\n",
    "최선의 경우 = Θ(1) / 최악의 경우 = Θ(logn)\n",
    "스며내리기에서는 주로 삭제 작업이 실행되고 길이가 n인 리스트에서 그 삭제 작업의 수행시간은 최악의 경우 Θ(logn) 이고 최선의 경우 Θ(1)의 시간이 소요된다.\n",
    "\n",
    "### Problem 05\n",
    "간단한 일이라고 볼 수 있다.\n",
    "힙의 맨 마지막 원소라 함은 리스트 구조에서 제일 맨 뒤에 있는 걸 삭제하는 것이랑 같다. 루트 삭제와 달리 heapify()를 사용하지 않고 단순하게 pop() 하면 된다.\n",
    "\n",
    "### Problem 06\n",
    "본문에 제시한 방법에 비해 비효율적이다.\n",
    "위에서 아래로 내려오게 되면 아직 자식노드가 부모노드 기준으로 힙이 완성되지 않을 상태로 힙을 만들면서 내려오는 행동이 될 수 있어 불필요한 연산이 증가된다. 점근적 시간으로 위에서부터 내려오면 Θ(nlogn)의 시간이 소요되며 아래서부터 올라가면 Θ(n)의 시간이 소요된다.\n",
    "\n",
    "### Problem 07\n",
    "증가한 해당 원소 노드를 스며올리기를 통해 부모노드와 해당 노드를 비교하여 새로운 힙의 구조를 만들어 나간다. 그리하면 O(log n) 시간에 반영하여 힙을 수선선할 수 있다.\n"
   ]
  },
  {
   "cell_type": "markdown",
   "id": "400e05ec",
   "metadata": {},
   "source": [
    "## 6. LeetCode 703"
   ]
  },
  {
   "cell_type": "code",
   "execution_count": null,
   "id": "62a85052",
   "metadata": {},
   "outputs": [],
   "source": [
    "class KthLargest:\n",
    "\n",
    "    def __init__(self, k: int, nums: list[int]):\n",
    "        self.k = k\n",
    "        self.min_heap = []\n",
    "        for num in nums:\n",
    "            self.add(num)\n",
    "\n",
    "    def add(self, val: int) -> int:\n",
    "        heapq.heappush(self.min_heap, val)\n",
    "\n",
    "        if len(self.min_heap) > self.k:\n",
    "            heapq.heappop(self.min_heap)\n",
    "\n",
    "        return self.min_heap[0]"
   ]
  }
 ],
 "metadata": {
  "kernelspec": {
   "display_name": "Python 3",
   "language": "python",
   "name": "python3"
  },
  "language_info": {
   "codemirror_mode": {
    "name": "ipython",
    "version": 3
   },
   "file_extension": ".py",
   "mimetype": "text/x-python",
   "name": "python",
   "nbconvert_exporter": "python",
   "pygments_lexer": "ipython3",
   "version": "3.13.2"
  }
 },
 "nbformat": 4,
 "nbformat_minor": 5
}
